{
  "cells": [
    {
      "cell_type": "code",
      "source": [
        "!pip install libauc tabpfn pytorch_tabnet networkx"
      ],
      "metadata": {
        "id": "MdlOcKwN1uzc"
      },
      "execution_count": null,
      "outputs": []
    },
    {
      "cell_type": "code",
      "execution_count": null,
      "metadata": {
        "id": "vIjTzQbZ1evR"
      },
      "outputs": [],
      "source": [
        "import warnings\n",
        "warnings.filterwarnings(\"ignore\")\n",
        "\n",
        "import os\n",
        "import sys\n",
        "import time\n",
        "import random\n",
        "import numpy as np\n",
        "import torch\n",
        "from torch.utils.data import DataLoader\n",
        "from libauc.losses import AUCMLoss\n",
        "from libauc.optimizers import PESG\n",
        "from libauc.models import resnet20 as ResNet20\n",
        "from libauc.datasets import CIFAR10\n",
        "from libauc.utils import ImbalancedDataGenerator\n",
        "from libauc.sampler import DualSampler\n",
        "from libauc.metrics import auc_roc_score\n",
        "import torch\n",
        "from PIL import Image\n",
        "import numpy as np\n",
        "import pandas as pd\n",
        "import torchvision.transforms as transforms\n",
        "from torch.utils.data import Dataset\n",
        "from sklearn.metrics import roc_auc_score, classification_report, precision_score, f1_score, recall_score\n",
        "from sklearn.preprocessing import StandardScaler\n",
        "from tqdm import tqdm\n",
        "import torch\n",
        "import torch.nn as nn\n",
        "import torch.optim as optim\n",
        "from sklearn.metrics import accuracy_score\n",
        "from tabpfn import TabPFNClassifier\n",
        "import networkx as nx\n",
        "\n",
        "from pytorch_tabnet.tab_model import TabNetClassifier\n",
        "import torch\n",
        "\n",
        "\n",
        "# from sklearn.preprocessing import MinMaxScaler"
      ]
    },
    {
      "cell_type": "code",
      "execution_count": null,
      "metadata": {
        "id": "tg71Q1rJ1evS"
      },
      "outputs": [],
      "source": [
        "def set_all_seeds(SEED):\n",
        "    torch.manual_seed(SEED)\n",
        "    np.random.seed(SEED)\n",
        "    torch.backends.cudnn.deterministic = True\n",
        "    torch.backends.cudnn.benchmark = False"
      ]
    },
    {
      "cell_type": "code",
      "source": [
        "from google.colab import drive\n",
        "drive.mount(\"/content/drive\")"
      ],
      "metadata": {
        "id": "5CleL_6j17QH"
      },
      "execution_count": null,
      "outputs": []
    },
    {
      "cell_type": "code",
      "execution_count": null,
      "metadata": {
        "id": "oo5W_ERD1evT"
      },
      "outputs": [],
      "source": [
        "file_path = '/content/drive/My Drive/Malware_Android_LibAuc/FloodPrediction.csv'\n",
        "delimiter = ','\n",
        "flood = pd.read_csv(file_path, delimiter=delimiter)\n",
        "flood = flood.drop(['Sl'], axis=1)\n",
        "flood['Flood?'] = flood[\"Flood?\"].fillna(0)\n",
        "print(flood.shape)\n",
        "\n",
        "flood.head(5)"
      ]
    },
    {
      "cell_type": "code",
      "source": [
        "import networkx as nx\n",
        "graph = nx.Graph()\n",
        "\n",
        "# Iterate over each data point\n",
        "for i in range(embedded_docs_shuffled.shape[0]):\n",
        "    label = trainY_shuffled[i]\n",
        "    node_id = i\n",
        "    graph.add_node(node_id)\n",
        "\n",
        "for i in range(embedded_docs_shuffled.shape[0]):\n",
        "    for j in range(i + 1, embedded_docs_shuffled.shape[0]):\n",
        "        if trainY_shuffled[i] == trainY_shuffled[j]:\n",
        "            # Nodes have the same label, connect them\n",
        "            node_id1 = i\n",
        "            node_id2 = j\n",
        "            graph.add_edge(node_id1, node_id2)\n",
        "for col in np.array(flood.columns[1:17]):\n"
      ],
      "metadata": {
        "id": "YVepbpGBrJEf"
      },
      "execution_count": null,
      "outputs": []
    },
    {
      "cell_type": "code",
      "source": [
        "flood[flood['Station_Names'] == 0]['Month'].unique()"
      ],
      "metadata": {
        "id": "snxuMwiUmctZ"
      },
      "execution_count": null,
      "outputs": []
    },
    {
      "cell_type": "code",
      "source": [
        "flood.isna().sum()"
      ],
      "metadata": {
        "id": "pyqkpA_5Hur2"
      },
      "execution_count": null,
      "outputs": []
    },
    {
      "cell_type": "code",
      "execution_count": null,
      "metadata": {
        "id": "12JyxX101evU"
      },
      "outputs": [],
      "source": [
        "from sklearn import preprocessing\n",
        "lbl_enc = preprocessing.LabelEncoder()"
      ]
    },
    {
      "cell_type": "code",
      "execution_count": null,
      "metadata": {
        "id": "xyiVIthp1evU"
      },
      "outputs": [],
      "source": [
        "lbl_enc.fit(np.array(flood['Station_Names']))"
      ]
    },
    {
      "cell_type": "code",
      "execution_count": null,
      "metadata": {
        "id": "j5JpCKYB1evV"
      },
      "outputs": [],
      "source": [
        "flood['Station_Names'] = lbl_enc.transform(np.array(flood['Station_Names']))\n",
        "flood['Station_Names'].shape"
      ]
    },
    {
      "cell_type": "code",
      "source": [
        "lbl_enc_st = preprocessing.LabelEncoder()\n",
        "lbl_enc_st.fit(np.array(flood['Station_Number']))\n",
        "flood['Station_Number'] = lbl_enc_st.transform(np.array(flood['Station_Number']))\n",
        "flood['Station_Number']"
      ],
      "metadata": {
        "id": "33lII6hnyKm0"
      },
      "execution_count": null,
      "outputs": []
    },
    {
      "cell_type": "code",
      "execution_count": null,
      "metadata": {
        "id": "nIAWHuHH1evV"
      },
      "outputs": [],
      "source": [
        "flood.columns"
      ]
    },
    {
      "cell_type": "code",
      "source": [
        "station_names_unique = flood['Station_Names'].unique()\n",
        "station_names_unique"
      ],
      "metadata": {
        "id": "KnPEc8Qska1i"
      },
      "execution_count": null,
      "outputs": []
    },
    {
      "cell_type": "code",
      "source": [
        "flood['ALT'].unique()"
      ],
      "metadata": {
        "id": "rlUrKy8FlsVa"
      },
      "execution_count": null,
      "outputs": []
    },
    {
      "cell_type": "code",
      "source": [
        "year_unique = flood['Year'].unique()\n",
        "month_unique = flood['Month'].unique()\n",
        "max_temp_unique = flood['Max_Temp'].unique()\n",
        "\n"
      ],
      "metadata": {
        "id": "gMhZln3vktJB"
      },
      "execution_count": null,
      "outputs": []
    },
    {
      "cell_type": "code",
      "execution_count": null,
      "metadata": {
        "id": "P-rq53-f1evW"
      },
      "outputs": [],
      "source": [
        "X = np.array(flood.drop(['Flood?'], axis=1))\n",
        "Y = np.array(flood['Flood?'])\n",
        "X.shape, Y.shape"
      ]
    },
    {
      "cell_type": "code",
      "execution_count": null,
      "metadata": {
        "id": "5achKfjK1evY"
      },
      "outputs": [],
      "source": [
        "X = X.astype(np.float32)\n",
        "Y = Y.astype(np.int64)"
      ]
    },
    {
      "cell_type": "code",
      "execution_count": null,
      "metadata": {
        "id": "sXGaQYWL1evZ"
      },
      "outputs": [],
      "source": [
        "from sklearn.model_selection import train_test_split\n",
        "X_train, X_val, Y_train, Y_val = train_test_split(X, Y, test_size=0.2, random_state=42, shuffle=True)\n",
        "X_train.shape, X_val.shape, Y_train.shape, Y_val.shape"
      ]
    },
    {
      "cell_type": "code",
      "source": [
        "classifier = TabPFNClassifier(device=\"cpu\", N_ensemble_configurations=32)\n",
        "classifier.fit(X_train[:1024], Y_train[:1024])"
      ],
      "metadata": {
        "id": "YKbOOcf5WAqz"
      },
      "execution_count": null,
      "outputs": []
    },
    {
      "cell_type": "code",
      "source": [
        "y_eval, p_eval = classifier.predict(X_val, return_winning_probability=True)\n",
        "accuracy_score(Y_val, y_eval)"
      ],
      "metadata": {
        "id": "HMJsZJWsWXaN"
      },
      "execution_count": null,
      "outputs": []
    },
    {
      "cell_type": "code",
      "execution_count": null,
      "metadata": {
        "id": "-5U6_1281evd"
      },
      "outputs": [],
      "source": [
        "from torchmetrics.classification import BinaryAccuracy\n",
        "binary_accuracy = BinaryAccuracy()"
      ]
    },
    {
      "cell_type": "code",
      "execution_count": null,
      "metadata": {
        "id": "bAIIrgih1evp"
      },
      "outputs": [],
      "source": [
        "from sklearn.metrics import confusion_matrix, precision_score, recall_score, f1_score, accuracy_score\n",
        "import matplotlib.pyplot as plt\n",
        "import seaborn as sns\n",
        "\n",
        "\n",
        "accuracy = accuracy_score(Y_val, y_eval) * 100\n",
        "print(f'Accuracy: {accuracy}')\n",
        "\n",
        "precision = precision_score(Y_val, y_eval)\n",
        "recall = recall_score(Y_val, y_eval)\n",
        "f1 = f1_score(Y_val, y_eval)\n",
        "\n",
        "print(\"Precision:\", precision)\n",
        "print(\"Recall:\", recall)\n",
        "print(\"F1-Score:\", f1)\n",
        "\n",
        "\n",
        "cm = confusion_matrix(Y_val, y_eval)\n",
        "\n",
        "# Plot confusion matrix using seaborn\n",
        "plt.figure(figsize=(2, 2))\n",
        "sns.heatmap(cm, annot=True, fmt=\"d\", cmap=\"Greens\", cbar=False)\n",
        "plt.xlabel(\"Predicted\")\n",
        "plt.ylabel(\"True\")\n",
        "# plt.title(\"Confusion Matrix\")\n",
        "plt.show()"
      ]
    },
    {
      "cell_type": "code",
      "execution_count": null,
      "metadata": {
        "id": "2ZTRDJGZ1evv"
      },
      "outputs": [],
      "source": []
    },
    {
      "cell_type": "code",
      "execution_count": null,
      "metadata": {
        "id": "UJwGz7L21evv"
      },
      "outputs": [],
      "source": [
        "clf_tabnet = TabNetClassifier(optimizer_fn=torch.optim.Adam,\n",
        "                           scheduler_params={\"step_size\":5,\n",
        "                                         \"gamma\":0.9},\n",
        "                       scheduler_fn=torch.optim.lr_scheduler.StepLR,\n",
        "                      )\n",
        "\n",
        "# fit the model\n",
        "clf_tabnet.fit(\n",
        "    X_train,Y_train,\n",
        "    eval_set=[(X_train, Y_train), (X_val, Y_val)],\n",
        "    eval_name=['train', 'test'],\n",
        "    eval_metric=['auc','accuracy'],\n",
        "    max_epochs=500, patience=60,\n",
        "    batch_size=512, virtual_batch_size=512,\n",
        "    num_workers=0,\n",
        "    weights=1,\n",
        "    drop_last=False\n",
        ")"
      ]
    },
    {
      "cell_type": "code",
      "source": [
        "clf_tabnet_ra = TabNetClassifier(optimizer_fn=torch.optim.RAdam,\n",
        "                       scheduler_params={\"step_size\":5,\n",
        "                                         \"gamma\":0.9},\n",
        "                       scheduler_fn=torch.optim.lr_scheduler.StepLR,\n",
        "                      )\n",
        "\n",
        "# fit the model\n",
        "clf_tabnet_ra.fit(\n",
        "    X_train,Y_train,\n",
        "    eval_set=[(X_train, Y_train), (X_val, Y_val)],\n",
        "    eval_name=['train', 'test'],\n",
        "    eval_metric=['auc','balanced_accuracy'],\n",
        "    max_epochs=500, patience=60,\n",
        "    batch_size=512, virtual_batch_size=512,\n",
        "    num_workers=0,\n",
        "    weights=1,\n",
        "    drop_last=False\n",
        ")"
      ],
      "metadata": {
        "id": "MRSEGhOayEnt"
      },
      "execution_count": null,
      "outputs": []
    },
    {
      "cell_type": "code",
      "source": [
        "y_eval= clf_tabnet.predict(X_val)\n",
        "print(classification_report(Y_val, y_eval))"
      ],
      "metadata": {
        "id": "Ic6g1nLWyYHM"
      },
      "execution_count": null,
      "outputs": []
    },
    {
      "cell_type": "code",
      "source": [
        "from sklearn.metrics import confusion_matrix, precision_score, recall_score, f1_score, accuracy_score\n",
        "import matplotlib.pyplot as plt\n",
        "import seaborn as sns\n",
        "\n",
        "accuracy = accuracy_score(Y_val, y_eval) * 100\n",
        "print(f'Accuracy: {accuracy}')\n",
        "\n",
        "precision = precision_score(Y_val, y_eval)\n",
        "recall = recall_score(Y_val, y_eval)\n",
        "f1 = f1_score(Y_val, y_eval)\n",
        "\n",
        "print(\"Precision:\", precision)\n",
        "print(\"Recall:\", recall)\n",
        "print(\"F1-Score:\", f1)\n",
        "\n",
        "\n",
        "cm = confusion_matrix(Y_val, y_eval)\n",
        "\n",
        "# Plot confusion matrix using seaborn\n",
        "plt.figure(figsize=(2, 2))\n",
        "sns.heatmap(cm, annot=True, fmt=\"d\", cmap=\"Greens\", cbar=False)\n",
        "plt.xlabel(\"Predicted\")\n",
        "plt.ylabel(\"True\")\n",
        "# plt.title(\"Confusion Matrix\")\n",
        "plt.show()"
      ],
      "metadata": {
        "id": "ItLjYuZEy0ld"
      },
      "execution_count": null,
      "outputs": []
    },
    {
      "cell_type": "code",
      "source": [
        "from sklearn.ensemble import RandomForestClassifier\n",
        "from xgboost import XGBClassifier\n",
        "from sklearn.linear_model import LogisticRegression\n",
        "import lightgbm as lgb\n",
        "from sklearn.model_selection import cross_val_score\n",
        "\n",
        "clf_log = LogisticRegression()\n",
        "clf_rfc = RandomForestClassifier()\n",
        "clf_xgb = XGBClassifier()\n",
        "clf_lgb = lgb.LGBMClassifier()\n",
        "\n",
        "clf_log.fit(X_train, Y_train)\n",
        "y_pred_log = clf_log.predict(X_val)\n",
        "\n",
        "clf_rfc.fit(X_train, Y_train)\n",
        "y_pred_rfc = clf_rfc.predict(X_val)\n",
        "\n",
        "clf_xgb.fit(X_train, Y_train)\n",
        "y_pred_xgb = clf_xgb.predict(X_val)\n",
        "\n",
        "clf_lgb.fit(X_train, Y_train)\n",
        "y_pred_lgb = clf_lgb.predict(X_val)"
      ],
      "metadata": {
        "id": "jXvzYDpnzTP8"
      },
      "execution_count": null,
      "outputs": []
    },
    {
      "cell_type": "code",
      "source": [
        "accuracy_log = (Y_val == y_pred_log).sum()/Y_val.shape[0]\n",
        "print(f'Accuracy: {accuracy_log}')\n",
        "\n",
        "precision = precision_score(Y_val, y_pred_log)\n",
        "recall = recall_score(Y_val, y_pred_log)\n",
        "f1 = f1_score(Y_val, y_pred_log)\n",
        "\n",
        "print(\"Precision:\", precision)\n",
        "print(\"Recall:\", recall)\n",
        "print(\"F1-Score:\", f1)\n",
        "\n",
        "\n",
        "cm = confusion_matrix(Y_val, y_pred_log)\n",
        "\n",
        "# Plot confusion matrix using seaborn\n",
        "plt.figure(figsize=(2, 2))\n",
        "sns.heatmap(cm, annot=True, fmt=\"d\", cmap=\"Greens\", cbar=False)\n",
        "plt.xlabel(\"Predicted\")\n",
        "plt.ylabel(\"True\")\n",
        "# plt.title(\"Confusion Matrix\")\n",
        "plt.show()"
      ],
      "metadata": {
        "id": "lXHb79YP0Uo8"
      },
      "execution_count": null,
      "outputs": []
    },
    {
      "cell_type": "code",
      "source": [
        "accuracy_rfc = accuracy_score(Y_val, y_pred_rfc) * 100\n",
        "print(f'Accuracy: {accuracy_rfc}')\n",
        "\n",
        "cr = classification_report(Y_val, y_pred_rfc)\n",
        "print(cr)\n",
        "\n",
        "precision = precision_score(Y_val, y_pred_rfc)\n",
        "recall = recall_score(Y_val, y_pred_rfc)\n",
        "f1 = f1_score(Y_val, y_pred_rfc)\n",
        "\n",
        "print(\"Precision:\", precision)\n",
        "print(\"Recall:\", recall)\n",
        "print(\"F1-Score:\", f1)\n",
        "\n",
        "\n",
        "cm = confusion_matrix(Y_val, y_pred_rfc)\n",
        "\n",
        "# Plot confusion matrix using seaborn\n",
        "plt.figure(figsize=(2, 2))\n",
        "sns.heatmap(cm, annot=True, fmt=\"d\", cmap=\"Greens\", cbar=False)\n",
        "plt.xlabel(\"Predicted\")\n",
        "plt.ylabel(\"True\")\n",
        "# plt.title(\"Confusion Matrix\")\n",
        "plt.show()"
      ],
      "metadata": {
        "id": "Yr0RDvad0jWr"
      },
      "execution_count": null,
      "outputs": []
    },
    {
      "cell_type": "code",
      "source": [
        "accuracy_xgb = accuracy_score(Y_val, y_pred_xgb) * 100\n",
        "print(f'Accuracy: {accuracy_xgb}')\n",
        "\n",
        "precision = precision_score(Y_val, y_pred_xgb)\n",
        "recall = recall_score(Y_val, y_pred_xgb)\n",
        "f1 = f1_score(Y_val, y_pred_xgb)\n",
        "\n",
        "print(\"Precision:\", precision)\n",
        "print(\"Recall:\", recall)\n",
        "print(\"F1-Score:\", f1)\n",
        "\n",
        "\n",
        "cm = confusion_matrix(Y_val, y_pred_xgb)\n",
        "\n",
        "# Plot confusion matrix using seaborn\n",
        "plt.figure(figsize=(2, 2))\n",
        "sns.heatmap(cm, annot=True, fmt=\"d\", cmap=\"Greens\", cbar=False)\n",
        "plt.xlabel(\"Predicted\")\n",
        "plt.ylabel(\"True\")\n",
        "# plt.title(\"Confusion Matrix\")\n",
        "plt.show()"
      ],
      "metadata": {
        "id": "1B9MZyvS15K8"
      },
      "execution_count": null,
      "outputs": []
    },
    {
      "cell_type": "code",
      "source": [
        "accuracy_lgb = accuracy_score(Y_val, y_pred_lgb) * 100\n",
        "print(f'Accuracy: {accuracy_lgb}')\n",
        "\n",
        "precision = precision_score(Y_val, y_pred_lgb)\n",
        "recall = recall_score(Y_val, y_pred_lgb)\n",
        "f1 = f1_score(Y_val, y_pred_lgb)\n",
        "\n",
        "print(\"Precision:\", precision)\n",
        "print(\"Recall:\", recall)\n",
        "print(\"F1-Score:\", f1)\n",
        "\n",
        "\n",
        "cm = confusion_matrix(Y_val, y_pred_lgb)\n",
        "\n",
        "# Plot confusion matrix using seaborn\n",
        "plt.figure(figsize=(2, 2))\n",
        "sns.heatmap(cm, annot=True, fmt=\"d\", cmap=\"Greens\", cbar=False)\n",
        "plt.xlabel(\"Predicted\")\n",
        "plt.ylabel(\"True\")\n",
        "# plt.title(\"Confusion Matrix\")\n",
        "plt.show()"
      ],
      "metadata": {
        "id": "w_wF39Ja1-t9"
      },
      "execution_count": null,
      "outputs": []
    },
    {
      "cell_type": "code",
      "source": [
        "all_predictions = np.array([y_pred_lgb, y_pred_xgb, y_pred_rfc, y_eval])\n",
        "\n",
        "# Perform majority voting ensemble by taking the mode (most frequent) prediction for each sample\n",
        "ensemble_pred = np.round(np.mean(all_predictions, axis=0))\n",
        "\n",
        "accuracy_ensemble = accuracy_score(Y_val, ensemble_pred) * 100\n",
        "print(f'Accuracy: {accuracy_ensemble}')\n",
        "\n",
        "precision = precision_score(Y_val, ensemble_pred)\n",
        "recall = recall_score(Y_val, ensemble_pred)\n",
        "f1 = f1_score(Y_val, ensemble_pred)\n",
        "\n",
        "print(\"Precision:\", precision)\n",
        "print(\"Recall:\", recall)\n",
        "print(\"F1-Score:\", f1)\n",
        "\n",
        "\n",
        "cm = confusion_matrix(Y_val, ensemble_pred)\n",
        "\n",
        "# Plot confusion matrix using seaborn\n",
        "plt.figure(figsize=(2, 2))\n",
        "sns.heatmap(cm, annot=True, fmt=\"d\", cmap=\"Greens\", cbar=False)\n",
        "plt.xlabel(\"Predicted\")\n",
        "plt.ylabel(\"True\")\n",
        "# plt.title(\"Confusion Matrix\")\n",
        "plt.show()"
      ],
      "metadata": {
        "id": "gCH1P4uK2Fwt"
      },
      "execution_count": null,
      "outputs": []
    },
    {
      "cell_type": "code",
      "source": [
        "from sklearn.neighbors import KNeighborsClassifier\n",
        "clf_knn = KNeighborsClassifier(n_neighbors=3)\n",
        "clf_knn.fit(X_train, Y_train)"
      ],
      "metadata": {
        "id": "zoGNTRC406Gh"
      },
      "execution_count": null,
      "outputs": []
    },
    {
      "cell_type": "code",
      "source": [
        "clf_knn = KNeighborsClassifier(n_neighbors=9)\n",
        "clf_knn.fit(X_train, Y_train)\n",
        "\n",
        "y_pred_knn = clf_knn.predict(X_val)\n",
        "\n",
        "accuracy_knn = accuracy_score(Y_val, y_pred_knn) * 100\n",
        "print(f'Accuracy: {accuracy_knn}')\n",
        "\n",
        "precision = precision_score(Y_val, y_pred_knn)\n",
        "recall = recall_score(Y_val, y_pred_knn)\n",
        "f1 = f1_score(Y_val, y_pred_knn)\n",
        "\n",
        "print(\"Precision:\", precision)\n",
        "print(\"Recall:\", recall)\n",
        "print(\"F1-Score:\", f1)\n",
        "\n",
        "\n",
        "cm = confusion_matrix(Y_val, y_pred_knn)\n",
        "\n",
        "# Plot confusion matrix using seaborn\n",
        "plt.figure(figsize=(2, 2))\n",
        "sns.heatmap(cm, annot=True, fmt=\"d\", cmap=\"Greens\", cbar=False)\n",
        "plt.xlabel(\"Predicted\")\n",
        "plt.ylabel(\"True\")\n",
        "# plt.title(\"Confusion Matrix\")\n",
        "plt.show()\n"
      ],
      "metadata": {
        "id": "pLxiXDyd46S_"
      },
      "execution_count": null,
      "outputs": []
    },
    {
      "cell_type": "code",
      "source": [
        "from sklearn.naive_bayes import GaussianNB\n",
        "clf_gnb = GaussianNB()\n",
        "clf_gnb.fit(X_train, Y_train)\n",
        "\n",
        "y_pred_gnb = clf_gnb.predict(X_val)\n",
        "\n",
        "accuracy_gnb = accuracy_score(Y_val, y_pred_gnb) * 100\n",
        "print(f'Accuracy: {accuracy_gnb}')\n",
        "\n",
        "precision = precision_score(Y_val, y_pred_gnb)\n",
        "recall = recall_score(Y_val, y_pred_gnb)\n",
        "f1 = f1_score(Y_val, y_pred_gnb)\n",
        "\n",
        "print(\"Precision:\", precision)\n",
        "print(\"Recall:\", recall)\n",
        "print(\"F1-Score:\", f1)\n",
        "\n",
        "\n",
        "cm = confusion_matrix(Y_val, y_pred_gnb)\n",
        "\n",
        "# Plot confusion matrix using seaborn\n",
        "plt.figure(figsize=(2, 2))\n",
        "sns.heatmap(cm, annot=True, fmt=\"d\", cmap=\"Greens\", cbar=False)\n",
        "plt.xlabel(\"Predicted\")\n",
        "plt.ylabel(\"True\")\n",
        "# plt.title(\"Confusion Matrix\")\n",
        "plt.show()"
      ],
      "metadata": {
        "id": "r85EeeXO5KV_"
      },
      "execution_count": null,
      "outputs": []
    },
    {
      "cell_type": "code",
      "source": [
        "from sklearn.ensemble import AdaBoostClassifier\n",
        "from sklearn.datasets import make_classification\n",
        "\n",
        "clf_ada = AdaBoostClassifier(n_estimators=100, random_state=0)\n",
        "clf_ada.fit(X_train, Y_train)\n",
        "\n",
        "y_pred_ada = clf_ada.predict(X_val)\n",
        "\n",
        "accuracy_ada = accuracy_score(Y_val, y_pred_ada) * 100\n",
        "print(f'Accuracy: {accuracy_ada}')\n",
        "\n",
        "precision = precision_score(Y_val, y_pred_ada)\n",
        "recall = recall_score(Y_val, y_pred_ada)\n",
        "f1 = f1_score(Y_val, y_pred_ada)\n",
        "\n",
        "print(\"Precision:\", precision)\n",
        "print(\"Recall:\", recall)\n",
        "print(\"F1-Score:\", f1)\n",
        "\n",
        "\n",
        "cm = confusion_matrix(Y_val, y_pred_ada)\n",
        "\n",
        "# Plot confusion matrix using seaborn\n",
        "plt.figure(figsize=(2, 2))\n",
        "sns.heatmap(cm, annot=True, fmt=\"d\", cmap=\"Greens\", cbar=False)\n",
        "plt.xlabel(\"Predicted\")\n",
        "plt.ylabel(\"True\")\n",
        "# plt.title(\"Confusion Matrix\")\n",
        "plt.show()"
      ],
      "metadata": {
        "id": "uIwTpJPR5u4Q"
      },
      "execution_count": null,
      "outputs": []
    },
    {
      "cell_type": "code",
      "source": [
        "from sklearn.neural_network import MLPClassifier\n",
        "from sklearn.datasets import make_classification\n",
        "from sklearn.model_selection import train_test_split\n",
        "clf_mlp = MLPClassifier(random_state=42, max_iter=1000).fit(X_train, Y_train)"
      ],
      "metadata": {
        "id": "dtQdg3wP7tAh"
      },
      "execution_count": null,
      "outputs": []
    },
    {
      "cell_type": "code",
      "source": [
        "y_pred_mlp = clf_mlp.predict(X_val)\n",
        "\n",
        "accuracy_mlp = accuracy_score(Y_val, y_pred_mlp) * 100\n",
        "print(f'Accuracy: {accuracy_mlp}')\n",
        "\n",
        "precision = precision_score(Y_val, y_pred_mlp)\n",
        "recall = recall_score(Y_val, y_pred_mlp)\n",
        "f1 = f1_score(Y_val, y_pred_mlp)\n",
        "\n",
        "print(\"Precision:\", precision)\n",
        "print(\"Recall:\", recall)\n",
        "print(\"F1-Score:\", f1)\n",
        "\n",
        "\n",
        "cm = confusion_matrix(Y_val, y_pred_mlp)\n",
        "\n",
        "# Plot confusion matrix using seaborn\n",
        "plt.figure(figsize=(2, 2))\n",
        "sns.heatmap(cm, annot=True, fmt=\"d\", cmap=\"Greens\", cbar=False)\n",
        "plt.xlabel(\"Predicted\")\n",
        "plt.ylabel(\"True\")\n",
        "# plt.title(\"Confusion Matrix\")\n",
        "plt.show()"
      ],
      "metadata": {
        "id": "KX_qdPv7-p1O"
      },
      "execution_count": null,
      "outputs": []
    },
    {
      "cell_type": "code",
      "source": [
        "from sklearn.ensemble import ExtraTreesClassifier\n",
        "from sklearn.datasets import make_classification\n",
        "clf_xtc = ExtraTreesClassifier(n_estimators=100, random_state=42)\n",
        "clf_xtc.fit(X_train, Y_train)\n",
        "\n",
        "y_pred_xtc = clf_xtc.predict(X_val)\n",
        "accuracy_xtc = accuracy_score(Y_val, y_pred_xtc) * 100\n",
        "print(f'Accuracy: {accuracy_xtc}')\n",
        "\n",
        "precision = precision_score(Y_val, y_pred_xtc)\n",
        "recall = recall_score(Y_val, y_pred_xtc)\n",
        "f1 = f1_score(Y_val, y_pred_xtc)\n",
        "\n",
        "print(\"Precision:\", precision)\n",
        "print(\"Recall:\", recall)\n",
        "print(\"F1-Score:\", f1)\n",
        "\n",
        "\n",
        "cm = confusion_matrix(Y_val, y_pred_xtc)\n",
        "\n",
        "# Plot confusion matrix using seaborn\n",
        "plt.figure(figsize=(2, 2))\n",
        "sns.heatmap(cm, annot=True, fmt=\"d\", cmap=\"Greens\", cbar=False)\n",
        "plt.xlabel(\"Predicted\")\n",
        "plt.ylabel(\"True\")\n",
        "# plt.title(\"Confusion Matrix\")\n",
        "plt.show()"
      ],
      "metadata": {
        "id": "q8taiHzy-5X-"
      },
      "execution_count": null,
      "outputs": []
    },
    {
      "cell_type": "code",
      "source": [
        "import numpy as np\n",
        "from sklearn.pipeline import make_pipeline\n",
        "from sklearn.preprocessing import StandardScaler\n",
        "from sklearn.svm import SVC\n",
        "\n",
        "clf_svm = make_pipeline(StandardScaler(), SVC(gamma='auto'))\n",
        "clf_svm.fit(X_train, Y_train)\n",
        "\n",
        "\n",
        "y_pred_svm = clf_svm.predict(X_val)\n",
        "accuracy_svm = accuracy_score(Y_val, y_pred_svm) * 100\n",
        "print(f'Accuracy: {accuracy_svm}')\n",
        "\n",
        "precision = precision_score(Y_val, y_pred_svm)\n",
        "recall = recall_score(Y_val, y_pred_svm)\n",
        "f1 = f1_score(Y_val, y_pred_svm)\n",
        "\n",
        "print(\"Precision:\", precision)\n",
        "print(\"Recall:\", recall)\n",
        "print(\"F1-Score:\", f1)\n",
        "\n",
        "\n",
        "cm = confusion_matrix(Y_val, y_pred_svm)\n",
        "\n",
        "# Plot confusion matrix using seaborn\n",
        "plt.figure(figsize=(2, 2))\n",
        "sns.heatmap(cm, annot=True, fmt=\"d\", cmap=\"Greens\", cbar=False)\n",
        "plt.xlabel(\"Predicted\")\n",
        "plt.ylabel(\"True\")\n",
        "# plt.title(\"Confusion Matrix\")\n",
        "plt.show()"
      ],
      "metadata": {
        "id": "9_-ybAXu_s6-"
      },
      "execution_count": null,
      "outputs": []
    },
    {
      "cell_type": "code",
      "source": [],
      "metadata": {
        "id": "ny4TIe7GCUDf"
      },
      "execution_count": null,
      "outputs": []
    }
  ],
  "metadata": {
    "kernelspec": {
      "display_name": "libauc",
      "language": "python",
      "name": "python3"
    },
    "language_info": {
      "codemirror_mode": {
        "name": "ipython",
        "version": 3
      },
      "file_extension": ".py",
      "mimetype": "text/x-python",
      "name": "python",
      "nbconvert_exporter": "python",
      "pygments_lexer": "ipython3",
      "version": "3.11.4"
    },
    "orig_nbformat": 4,
    "colab": {
      "provenance": []
    }
  },
  "nbformat": 4,
  "nbformat_minor": 0
}